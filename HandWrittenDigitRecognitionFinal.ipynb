{
  "nbformat": 4,
  "nbformat_minor": 0,
  "metadata": {
    "colab": {
      "name": "HandWrittenDigitRecognition.ipynb",
      "provenance": []
    },
    "kernelspec": {
      "name": "python3",
      "display_name": "Python 3"
    },
    "accelerator": "GPU"
  },
  "cells": [
    {
      "cell_type": "code",
      "metadata": {
        "id": "R7DG1j3yAKM7",
        "colab_type": "code",
        "colab": {}
      },
      "source": [
        "import os\n",
        "os.environ['TF_CPP_MIN_LOG_LEVEL'] = \"2\""
      ],
      "execution_count": 0,
      "outputs": []
    },
    {
      "cell_type": "code",
      "metadata": {
        "id": "AFEDAa_a_ICS",
        "colab_type": "code",
        "outputId": "11925f65-4134-476c-8c5c-ff45a4e4aa37",
        "colab": {
          "base_uri": "https://localhost:8080/",
          "height": 34
        }
      },
      "source": [
        "!pwd"
      ],
      "execution_count": 4,
      "outputs": [
        {
          "output_type": "stream",
          "text": [
            "/content\n"
          ],
          "name": "stdout"
        }
      ]
    },
    {
      "cell_type": "markdown",
      "metadata": {
        "id": "ABfakIfKtmr7",
        "colab_type": "text"
      },
      "source": [
        "# 1. Import/Load the neccessary **libraries**"
      ]
    },
    {
      "cell_type": "code",
      "metadata": {
        "id": "o2XkfnDatgBm",
        "colab_type": "code",
        "colab": {}
      },
      "source": [
        "# Keras imports for dataset and building your neural network model\n",
        "import keras\n",
        "from keras.datasets import mnist\n",
        "from keras.models import Sequential\n",
        "from keras.layers import Dense, Dropout, Conv2D, MaxPooling2D, Flatten\n",
        "\n",
        "# Imports for array handling and plotting purpose\n",
        "from matplotlib import pyplot as plt\n",
        "from keras.utils import np_utils"
      ],
      "execution_count": 0,
      "outputs": []
    },
    {
      "cell_type": "markdown",
      "metadata": {
        "id": "SRZSnP7sB62q",
        "colab_type": "text"
      },
      "source": [
        "# **Part-I :** Data Preperation\n"
      ]
    },
    {
      "cell_type": "markdown",
      "metadata": {
        "id": "zefejjbL0jXT",
        "colab_type": "text"
      },
      "source": [
        "## A. Loading dataset"
      ]
    },
    {
      "cell_type": "code",
      "metadata": {
        "id": "7pqdEWYj2SmQ",
        "colab_type": "code",
        "colab": {}
      },
      "source": [
        "(Img_train, Label_train),(Img_test, Label_test) = mnist.load_data()"
      ],
      "execution_count": 0,
      "outputs": []
    },
    {
      "cell_type": "code",
      "metadata": {
        "id": "wlKfAu_clWXO",
        "colab_type": "code",
        "colab": {}
      },
      "source": [
        "Img_train.shape"
      ],
      "execution_count": 0,
      "outputs": []
    },
    {
      "cell_type": "markdown",
      "metadata": {
        "id": "GmyCRfAYRm13",
        "colab_type": "text"
      },
      "source": [
        "## B. Data visualization (Optional) "
      ]
    },
    {
      "cell_type": "code",
      "metadata": {
        "id": "MYSjNigHSev7",
        "colab_type": "code",
        "outputId": "b337019f-677b-4cd7-edc6-0fd37df459ac",
        "colab": {
          "base_uri": "https://localhost:8080/",
          "height": 268
        }
      },
      "source": [
        "# plot 4 images as gray scale\n",
        "plt.subplot(221)\n",
        "plt.imshow(Img_train[0], cmap=plt.get_cmap('gray'))\n",
        "plt.subplot(222)\n",
        "plt.imshow(Img_train[1], cmap=plt.get_cmap('gray'))\n",
        "plt.subplot(223)\n",
        "plt.imshow(Img_train[2], cmap=plt.get_cmap('gray'))\n",
        "plt.subplot(224)\n",
        "plt.imshow(Img_train[3], cmap=plt.get_cmap('gray'))\n",
        "# show the plot\n",
        "plt.show()"
      ],
      "execution_count": 0,
      "outputs": [
        {
          "output_type": "display_data",
          "data": {
            "image/png": "[encoded data removed]",
            "text/plain": [
              "<Figure size 432x288 with 4 Axes>"
            ]
          },
          "metadata": {
            "tags": []
          }
        }
      ]
    },
    {
      "cell_type": "markdown",
      "metadata": {
        "id": "2I_geH-DCcyB",
        "colab_type": "text"
      },
      "source": [
        "## C. Reshaping the samples (Images) "
      ]
    },
    {
      "cell_type": "code",
      "metadata": {
        "id": "kajs1QoJDR9H",
        "colab_type": "code",
        "colab": {}
      },
      "source": [
        "# Reshape to be [samples][width][height][channels] for TensorFlow backend or [channels][samples][width][height] for Theano\n",
        "Img_train = Img_train.reshape((Img_train.shape[0], 28, 28, 1)).astype('float32')\n",
        "Img_test = Img_test.reshape((Img_test.shape[0], 28, 28, 1)).astype('float32')"
      ],
      "execution_count": 0,
      "outputs": []
    },
    {
      "cell_type": "markdown",
      "metadata": {
        "id": "3anSPZYjP04G",
        "colab_type": "text"
      },
      "source": [
        "## D. Normalize inputs from 0-255 to 0-1"
      ]
    },
    {
      "cell_type": "code",
      "metadata": {
        "id": "0g9BsuYpP8q4",
        "colab_type": "code",
        "colab": {}
      },
      "source": [
        "Img_train = Img_train / 255\n",
        "Img_test = Img_test / 255"
      ],
      "execution_count": 0,
      "outputs": []
    },
    {
      "cell_type": "markdown",
      "metadata": {
        "id": "5zONXxE1QBx9",
        "colab_type": "text"
      },
      "source": [
        "## E. Converting outputs into **one hot encode** outputs"
      ]
    },
    {
      "cell_type": "code",
      "metadata": {
        "id": "qSbzv-ojQRVc",
        "colab_type": "code",
        "colab": {}
      },
      "source": [
        "Label_train = np_utils.to_categorical(Label_train)\n",
        "Label_test = np_utils.to_categorical(Label_test)\n",
        "num_classes = Label_test.shape[1]"
      ],
      "execution_count": 0,
      "outputs": []
    },
    {
      "cell_type": "markdown",
      "metadata": {
        "id": "lG13-Pghh9DU",
        "colab_type": "text"
      },
      "source": [
        "# **Part II:** Model Preperation "
      ]
    },
    {
      "cell_type": "markdown",
      "metadata": {
        "id": "tCjrQ1RKvjYU",
        "colab_type": "text"
      },
      "source": [
        "**A.** Define **Model** architecture"
      ]
    },
    {
      "cell_type": "code",
      "metadata": {
        "id": "F_m6ekx_viRn",
        "colab_type": "code",
        "outputId": "564bf8f8-27d6-447e-89f8-36b94cf67ede",
        "colab": {
          "base_uri": "https://localhost:8080/",
          "height": 255
        }
      },
      "source": [
        "input_shape=(28,28,1)\n",
        "num_classes=10\n",
        "model=Sequential()\n",
        "model.add(Conv2D(32, kernel_size=(3,3), activation=\"relu\", input_shape=input_shape))\n",
        "model.add(MaxPooling2D(pool_size=(2,2)))\n",
        "model.add(Conv2D(32, kernel_size=(3,3), activation=\"relu\"))\n",
        "model.add(MaxPooling2D(pool_size=(2,2)))\n",
        "model.add(Dropout(0.2))\n",
        "model.add(Flatten())\n",
        "model.add(Dense(128, activation=\"relu\"))\n",
        "model.add(Dropout(0.2))\n",
        "model.add(Dense(num_classes, activation=\"softmax\"))"
      ],
      "execution_count": 0,
      "outputs": [
        {
          "output_type": "stream",
          "text": [
            "WARNING:tensorflow:From /usr/local/lib/python3.6/dist-packages/keras/backend/tensorflow_backend.py:66: The name tf.get_default_graph is deprecated. Please use tf.compat.v1.get_default_graph instead.\n",
            "\n",
            "WARNING:tensorflow:From /usr/local/lib/python3.6/dist-packages/keras/backend/tensorflow_backend.py:541: The name tf.placeholder is deprecated. Please use tf.compat.v1.placeholder instead.\n",
            "\n",
            "WARNING:tensorflow:From /usr/local/lib/python3.6/dist-packages/keras/backend/tensorflow_backend.py:4432: The name tf.random_uniform is deprecated. Please use tf.random.uniform instead.\n",
            "\n",
            "WARNING:tensorflow:From /usr/local/lib/python3.6/dist-packages/keras/backend/tensorflow_backend.py:4267: The name tf.nn.max_pool is deprecated. Please use tf.nn.max_pool2d instead.\n",
            "\n",
            "WARNING:tensorflow:From /usr/local/lib/python3.6/dist-packages/keras/backend/tensorflow_backend.py:148: The name tf.placeholder_with_default is deprecated. Please use tf.compat.v1.placeholder_with_default instead.\n",
            "\n",
            "WARNING:tensorflow:From /usr/local/lib/python3.6/dist-packages/keras/backend/tensorflow_backend.py:3733: calling dropout (from tensorflow.python.ops.nn_ops) with keep_prob is deprecated and will be removed in a future version.\n",
            "Instructions for updating:\n",
            "Please use `rate` instead of `keep_prob`. Rate should be set to `rate = 1 - keep_prob`.\n"
          ],
          "name": "stdout"
        }
      ]
    },
    {
      "cell_type": "code",
      "metadata": {
        "id": "FiyFEHn9xIWd",
        "colab_type": "code",
        "colab": {}
      },
      "source": [
        "model.summary()"
      ],
      "execution_count": 0,
      "outputs": []
    },
    {
      "cell_type": "markdown",
      "metadata": {
        "id": "JKQcv3cyzbhu",
        "colab_type": "text"
      },
      "source": [
        "**B.** **Build (Compile)** the Model "
      ]
    },
    {
      "cell_type": "code",
      "metadata": {
        "id": "fda-n5oPzvlb",
        "colab_type": "code",
        "colab": {}
      },
      "source": [
        "model.compile(loss=keras.losses.categorical_crossentropy,\n",
        "              optimizer=keras.optimizers.Adadelta(),\n",
        "              metrics=['accuracy'])"
      ],
      "execution_count": 0,
      "outputs": []
    },
    {
      "cell_type": "markdown",
      "metadata": {
        "id": "ps_khjEb0Pmg",
        "colab_type": "text"
      },
      "source": [
        "**C.** **Train (fit)** the Model"
      ]
    },
    {
      "cell_type": "code",
      "metadata": {
        "id": "QOOCuC8x0Rzh",
        "colab_type": "code",
        "colab": {}
      },
      "source": [
        "# Defining values for hyper parameters\n",
        "batch_size= 100\n",
        "epochs=20\n",
        "\n",
        "# Training your model and saving the metrics in \"hist\"\n",
        "hist=model.fit(Img_train, Label_train,\n",
        "          batch_size=batch_size,\n",
        "          epochs=epochs,\n",
        "          verbose=1,\n",
        "          validation_split=0.1)  # validation_data=(Img_test, Label_test)"
      ],
      "execution_count": 0,
      "outputs": []
    },
    {
      "cell_type": "markdown",
      "metadata": {
        "id": "bbZg-1cSjmwZ",
        "colab_type": "text"
      },
      "source": [
        "**D.** Save the model for further use "
      ]
    },
    {
      "cell_type": "code",
      "metadata": {
        "id": "94Nta6nuaSRz",
        "colab_type": "code",
        "colab": {}
      },
      "source": [
        "# Saving the trained model\n",
        "import os\n",
        "os.mkdir(\"Results\")\n",
        "save_dir=\"Results/\"\n",
        "model_name='MyModel_MNIST.h5'\n",
        "model_path=os.path.join(save_dir, model_name)\n",
        "model.save(model_path)"
      ],
      "execution_count": 0,
      "outputs": []
    },
    {
      "cell_type": "markdown",
      "metadata": {
        "id": "r34YHiRqAmUV",
        "colab_type": "text"
      },
      "source": [
        "# **Part III:** Performance Analysis"
      ]
    },
    {
      "cell_type": "markdown",
      "metadata": {
        "id": "C8ed0OdTjHRJ",
        "colab_type": "text"
      },
      "source": [
        "**A.** Visualising model's performance during training"
      ]
    },
    {
      "cell_type": "code",
      "metadata": {
        "id": "H7FFp-1b78dd",
        "colab_type": "code",
        "colab": {}
      },
      "source": [
        "# Plotting the metrics\n",
        "fig=plt.figure()\n",
        "plt.subplot(1,2,1)\n",
        "plt.plot(hist.history['acc'])\n",
        "plt.plot(hist.history['val_acc'])\n",
        "plt.title('Model Accuracy vs Epochs')\n",
        "plt.xlabel('Epoch')\n",
        "plt.ylabel(\"Accuracy\")\n",
        "plt.legend(['Train','Test'],loc='upper right')\n",
        "\n",
        "#plt.subplot(1,2,2)\n",
        "plt.plot(hist.history['loss'])\n",
        "plt.plot(hist.history['val_loss'])\n",
        "plt.title('Model Loss vs Epochs')\n",
        "plt.xlabel('Epoch')\n",
        "plt.ylabel(\"Loss\")\n",
        "plt.legend(['Train','Test'],loc='upper right')\n",
        "plt.tight_layout()"
      ],
      "execution_count": 0,
      "outputs": []
    },
    {
      "cell_type": "markdown",
      "metadata": {
        "id": "-1RnMC5NvJBu",
        "colab_type": "text"
      },
      "source": [
        "**B.**  **Evaluating** the model- Check prediction score for test dataset "
      ]
    },
    {
      "cell_type": "code",
      "metadata": {
        "id": "yXABEEiwBIIW",
        "colab_type": "code",
        "outputId": "52bd081d-d490-4f71-df0d-aaee7509eeac",
        "colab": {
          "base_uri": "https://localhost:8080/",
          "height": 50
        }
      },
      "source": [
        "myTrained_model=keras.models.load_model('Results/MyModel_MNIST.h5')\n",
        "score = myTrained_model.evaluate(Img_test, Label_test, verbose=0)\n",
        "print('Test loss:', score[0])\n",
        "print('Test accuracy:', score[1])"
      ],
      "execution_count": 0,
      "outputs": [
        {
          "output_type": "stream",
          "text": [
            "Test loss: 0.020341028370661932\n",
            "Test accuracy: 0.994\n"
          ],
          "name": "stdout"
        }
      ]
    },
    {
      "cell_type": "markdown",
      "metadata": {
        "id": "bKkilp-2vkOr",
        "colab_type": "text"
      },
      "source": [
        "**C.** Let us see which images were predicted wrongly\n",
        "\n"
      ]
    },
    {
      "cell_type": "code",
      "metadata": {
        "id": "9W2dq6hZz1C4",
        "colab_type": "code",
        "outputId": "4d31eb13-0e50-4b69-d79f-773b68e976d3",
        "colab": {
          "base_uri": "https://localhost:8080/",
          "height": 311
        }
      },
      "source": [
        "# Look at confusion matrix \n",
        "import numpy as np\n",
        "from sklearn.metrics import confusion_matrix\n",
        "import itertools\n",
        "import matplotlib.image as mpimg\n",
        "import seaborn as sns\n",
        "%matplotlib inline\n",
        "\n",
        "\n",
        "def plot_confusion_matrix(cm, classes,\n",
        "                          normalize=False,\n",
        "                          title='Confusion matrix',\n",
        "                          cmap=plt.cm.Blues):\n",
        "    \"\"\"\n",
        "    This function prints and plots the confusion matrix.\n",
        "    Normalization can be applied by setting `normalize=True`.\n",
        "    \"\"\"\n",
        "    plt.imshow(cm, interpolation='nearest', cmap=cmap)\n",
        "    plt.title(title)\n",
        "    plt.colorbar()\n",
        "    tick_marks = np.arange(len(classes))\n",
        "    plt.xticks(tick_marks, classes, rotation=45)\n",
        "    plt.yticks(tick_marks, classes)\n",
        "\n",
        "    if normalize:\n",
        "        cm = cm.astype('float') / cm.sum(axis=1)[:, np.newaxis]\n",
        "\n",
        "    thresh = cm.max() / 2.\n",
        "    for i, j in itertools.product(range(cm.shape[0]), range(cm.shape[1])):\n",
        "        plt.text(j, i, cm[i, j],\n",
        "                 horizontalalignment=\"center\",\n",
        "                 color=\"white\" if cm[i, j] > thresh else \"black\")\n",
        "\n",
        "    plt.tight_layout()\n",
        "    plt.ylabel('True label')\n",
        "    plt.xlabel('Predicted label')\n",
        "\n",
        "# Predict the values from the validation dataset\n",
        "Y_pred = model.predict(Img_test)\n",
        "# Convert predictions classes to one hot vectors \n",
        "Y_pred_classes = np.argmax(Y_pred,axis = 1) \n",
        "# Convert validation observations to one hot vectors\n",
        "Y_true = np.argmax(Label_test,axis = 1) \n",
        "# compute the confusion matrix\n",
        "confusion_mtx = confusion_matrix(Y_true, Y_pred_classes) \n",
        "# plot the confusion matrix\n",
        "plot_confusion_matrix(confusion_mtx, classes = range(10))"
      ],
      "execution_count": 0,
      "outputs": [
        {
          "output_type": "display_data",
          "data": {
            "image/png": "[encoded data removed]",
            "text/plain": [
              "<Figure size 432x288 with 2 Axes>"
            ]
          },
          "metadata": {
            "tags": []
          }
        }
      ]
    },
    {
      "cell_type": "code",
      "metadata": {
        "id": "ngiNZfIUwVmw",
        "colab_type": "code",
        "colab": {}
      },
      "source": [
        "# Display some error results \n",
        "\n",
        "# Errors are difference between predicted labels and true labels\n",
        "errors = (Y_pred_classes - Y_true != 0)\n",
        "\n",
        "Y_pred_classes_errors = Y_pred_classes[errors]\n",
        "Y_pred_errors = Y_pred[errors]\n",
        "Y_true_errors = Y_true[errors]\n",
        "X_val_errors = Img_test[errors]\n",
        "\n",
        "def display_errors(errors_index,img_errors,pred_errors, obs_errors):\n",
        "    \"\"\" This function shows 6 images with their predicted and real labels\"\"\"\n",
        "    n = 0\n",
        "    nrows = 2\n",
        "    ncols = 3\n",
        "    fig, ax = plt.subplots(nrows,ncols) #,sharex=True,sharey=True)\n",
        "    plt.tight_layout()\n",
        "    for row in range(nrows):\n",
        "        for col in range(ncols):\n",
        "            error = errors_index[n]\n",
        "            ax[row,col].imshow((img_errors[error]).reshape((28,28)))\n",
        "            ax[row,col].set_title(\"Predicted label :{}\\nTrue label :{}\".format(pred_errors[error],obs_errors[error]))\n",
        "            ax.set_xticks([])\n",
        "            ax.set_yticks([])\n",
        "            plt.tight_layout()\n",
        "            n += 1\n",
        "            \n",
        "# Probabilities of the wrong predicted numbers\n",
        "Y_pred_errors_prob = np.max(Y_pred_errors,axis = 1)\n",
        "\n",
        "# Predicted probabilities of the true values in the error set\n",
        "true_prob_errors = np.diagonal(np.take(Y_pred_errors, Y_true_errors, axis=1))\n",
        "\n",
        "# Difference between the probability of the predicted label and the true label\n",
        "delta_pred_true_errors = Y_pred_errors_prob - true_prob_errors\n",
        "\n",
        "# Sorted list of the delta prob errors\n",
        "sorted_dela_errors = np.argsort(delta_pred_true_errors)\n",
        "\n",
        "# Top 6 errors \n",
        "most_important_errors = sorted_dela_errors[-6:]\n",
        "\n",
        "# Show the top 6 errors\n",
        "display_errors(most_important_errors, X_val_errors, Y_pred_classes_errors, Y_true_errors)\n"
      ],
      "execution_count": 0,
      "outputs": []
    }
  ]
}